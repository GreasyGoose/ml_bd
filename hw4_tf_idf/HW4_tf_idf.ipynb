{
  "nbformat": 4,
  "nbformat_minor": 0,
  "metadata": {
    "colab": {
      "name": "HW4.ipynb",
      "provenance": [],
      "collapsed_sections": []
    },
    "kernelspec": {
      "name": "python3",
      "display_name": "Python 3"
    },
    "language_info": {
      "name": "python"
    }
  },
  "cells": [
    {
      "cell_type": "code",
      "metadata": {
        "id": "CzbZ_LTcCEc0"
      },
      "source": [
        "!apt-get install openjdk-8-jdk-headless -qq > /dev/null\n",
        "!wget -q https://downloads.apache.org/spark/spark-3.2.0/spark-3.2.0-bin-hadoop3.2.tgz\n",
        "\n",
        "!tar -xvf spark-3.2.0-bin-hadoop3.2.tgz\n",
        "!pip install -q findspark"
      ],
      "execution_count": null,
      "outputs": []
    },
    {
      "cell_type": "code",
      "metadata": {
        "id": "XWT7AoOWCUKR"
      },
      "source": [
        "import os\n",
        "os.environ[\"JAVA_HOME\"] = \"/usr/lib/jvm/java-8-openjdk-amd64\"\n",
        "os.environ[\"SPARK_HOME\"] = \"/content/spark-3.2.0-bin-hadoop3.2\""
      ],
      "execution_count": 1,
      "outputs": []
    },
    {
      "cell_type": "code",
      "metadata": {
        "id": "WRDx6rH7IO_I"
      },
      "source": [
        "import findspark\n",
        "findspark.init()"
      ],
      "execution_count": 2,
      "outputs": []
    },
    {
      "cell_type": "code",
      "metadata": {
        "id": "0SKmfCOzHYdN"
      },
      "source": [
        "from pyspark.sql import SparkSession"
      ],
      "execution_count": 3,
      "outputs": []
    },
    {
      "cell_type": "code",
      "metadata": {
        "id": "IlXBE0pvDVn8"
      },
      "source": [
        "spark = SparkSession.builder.master(\"local[*]\").appName(\"hw4_tf_idf\").getOrCreate()"
      ],
      "execution_count": 4,
      "outputs": []
    },
    {
      "cell_type": "code",
      "metadata": {
        "colab": {
          "base_uri": "https://localhost:8080/",
          "height": 221
        },
        "id": "WZdjqyVkG_BT",
        "outputId": "ec8bb644-5979-4d52-e6b9-1107816d59a1"
      },
      "source": [
        "spark"
      ],
      "execution_count": 17,
      "outputs": [
        {
          "output_type": "execute_result",
          "data": {
            "text/html": [
              "\n",
              "            <div>\n",
              "                <p><b>SparkSession - in-memory</b></p>\n",
              "                \n",
              "        <div>\n",
              "            <p><b>SparkContext</b></p>\n",
              "\n",
              "            <p><a href=\"http://5c9d446103bc:4040\">Spark UI</a></p>\n",
              "\n",
              "            <dl>\n",
              "              <dt>Version</dt>\n",
              "                <dd><code>v3.2.0</code></dd>\n",
              "              <dt>Master</dt>\n",
              "                <dd><code>local[*]</code></dd>\n",
              "              <dt>AppName</dt>\n",
              "                <dd><code>hw4_tf_idf</code></dd>\n",
              "            </dl>\n",
              "        </div>\n",
              "        \n",
              "            </div>\n",
              "        "
            ],
            "text/plain": [
              "<pyspark.sql.session.SparkSession at 0x7f0fa0b18490>"
            ]
          },
          "metadata": {},
          "execution_count": 17
        }
      ]
    },
    {
      "cell_type": "code",
      "metadata": {
        "id": "qOzNYUgvIVYy"
      },
      "source": [
        "data = spark.read.option(\"header\", \"true\") \\\n",
        "      .option(\"inferSchema\", \"true\") \\\n",
        "      .option(\"sep\", \",\") \\\n",
        "      .csv(\"/content/tripadvisor_hotel_reviews.csv\"\n",
        "      )"
      ],
      "execution_count": 6,
      "outputs": []
    },
    {
      "cell_type": "code",
      "metadata": {
        "colab": {
          "base_uri": "https://localhost:8080/"
        },
        "id": "tZg6IXY8R4NG",
        "outputId": "e2dfb07e-2c05-48e7-e1f8-9632e6d53e74"
      },
      "source": [
        "data.show(10)"
      ],
      "execution_count": 7,
      "outputs": [
        {
          "output_type": "stream",
          "name": "stdout",
          "text": [
            "+--------------------+------+\n",
            "|              Review|Rating|\n",
            "+--------------------+------+\n",
            "|nice hotel expens...|     4|\n",
            "|ok nothing specia...|     2|\n",
            "|nice rooms not 4*...|     3|\n",
            "|unique, great sta...|     5|\n",
            "|great stay great ...|     5|\n",
            "|love monaco staff...|     5|\n",
            "|cozy stay rainy c...|     5|\n",
            "|excellent staff, ...|     4|\n",
            "|hotel stayed hote...|     5|\n",
            "|excellent stayed ...|     5|\n",
            "+--------------------+------+\n",
            "only showing top 10 rows\n",
            "\n"
          ]
        }
      ]
    },
    {
      "cell_type": "code",
      "metadata": {
        "colab": {
          "base_uri": "https://localhost:8080/"
        },
        "id": "Ir6PvMjAIVcH",
        "outputId": "12f7ad49-f871-43e5-e56b-c67775854502"
      },
      "source": [
        "df = data.select(\"Review\")\n",
        "df.show(10)"
      ],
      "execution_count": 8,
      "outputs": [
        {
          "output_type": "stream",
          "name": "stdout",
          "text": [
            "+--------------------+\n",
            "|              Review|\n",
            "+--------------------+\n",
            "|nice hotel expens...|\n",
            "|ok nothing specia...|\n",
            "|nice rooms not 4*...|\n",
            "|unique, great sta...|\n",
            "|great stay great ...|\n",
            "|love monaco staff...|\n",
            "|cozy stay rainy c...|\n",
            "|excellent staff, ...|\n",
            "|hotel stayed hote...|\n",
            "|excellent stayed ...|\n",
            "+--------------------+\n",
            "only showing top 10 rows\n",
            "\n"
          ]
        }
      ]
    },
    {
      "cell_type": "markdown",
      "metadata": {
        "id": "CKZMB_h9KWR8"
      },
      "source": [
        "#### 1. Delete special symbols"
      ]
    },
    {
      "cell_type": "code",
      "metadata": {
        "id": "G9fD6CvRM-nX"
      },
      "source": [
        "from pyspark.sql.functions import regexp_replace\n",
        "from pyspark.sql.functions import col"
      ],
      "execution_count": 9,
      "outputs": []
    },
    {
      "cell_type": "code",
      "metadata": {
        "id": "WNNplDs-KZ3y"
      },
      "source": [
        "df1 = data.na.drop(\"all\").withColumn(\"Review\", regexp_replace(col(\"Review\"), \"[^a-z0-9 ]\", \"\"))"
      ],
      "execution_count": 10,
      "outputs": []
    },
    {
      "cell_type": "code",
      "metadata": {
        "colab": {
          "base_uri": "https://localhost:8080/"
        },
        "id": "5byh76yQNE-a",
        "outputId": "2ec13ae3-0848-4180-a3d3-d5a89fb79893"
      },
      "source": [
        "df1.show(10)"
      ],
      "execution_count": 11,
      "outputs": [
        {
          "output_type": "stream",
          "name": "stdout",
          "text": [
            "+--------------------+------+\n",
            "|              Review|Rating|\n",
            "+--------------------+------+\n",
            "|nice hotel expens...|     4|\n",
            "|ok nothing specia...|     2|\n",
            "|nice rooms not 4 ...|     3|\n",
            "|unique great stay...|     5|\n",
            "|great stay great ...|     5|\n",
            "|love monaco staff...|     5|\n",
            "|cozy stay rainy c...|     5|\n",
            "|excellent staff h...|     4|\n",
            "|hotel stayed hote...|     5|\n",
            "|excellent stayed ...|     5|\n",
            "+--------------------+------+\n",
            "only showing top 10 rows\n",
            "\n"
          ]
        }
      ]
    },
    {
      "cell_type": "markdown",
      "metadata": {
        "id": "W0KR_-PLKFaT"
      },
      "source": [
        "#### 2. Bring to lower case"
      ]
    },
    {
      "cell_type": "code",
      "metadata": {
        "id": "nB_Bl9XeMVro"
      },
      "source": [
        "from pyspark.sql.functions import lower"
      ],
      "execution_count": 12,
      "outputs": []
    },
    {
      "cell_type": "code",
      "metadata": {
        "colab": {
          "base_uri": "https://localhost:8080/"
        },
        "id": "NegwFHG2KZz5",
        "outputId": "6ba4fd15-3dbe-4ffc-cca4-79dff7714de6"
      },
      "source": [
        "df2 = df1.withColumn(\"Review\", lower(col(\"Review\")))\n",
        "df2.show(10)"
      ],
      "execution_count": 13,
      "outputs": [
        {
          "output_type": "stream",
          "name": "stdout",
          "text": [
            "+--------------------+------+\n",
            "|              Review|Rating|\n",
            "+--------------------+------+\n",
            "|nice hotel expens...|     4|\n",
            "|ok nothing specia...|     2|\n",
            "|nice rooms not 4 ...|     3|\n",
            "|unique great stay...|     5|\n",
            "|great stay great ...|     5|\n",
            "|love monaco staff...|     5|\n",
            "|cozy stay rainy c...|     5|\n",
            "|excellent staff h...|     4|\n",
            "|hotel stayed hote...|     5|\n",
            "|excellent stayed ...|     5|\n",
            "+--------------------+------+\n",
            "only showing top 10 rows\n",
            "\n"
          ]
        }
      ]
    },
    {
      "cell_type": "markdown",
      "metadata": {
        "id": "_157rRSuNR67"
      },
      "source": [
        "#### 3. Count word frequency"
      ]
    },
    {
      "cell_type": "code",
      "metadata": {
        "id": "c1x7tEz1Olm3"
      },
      "source": [
        "# from pyspark.sql.functions import split"
      ],
      "execution_count": 14,
      "outputs": []
    },
    {
      "cell_type": "code",
      "metadata": {
        "id": "hkq9XCDYQsSi"
      },
      "source": [
        "from pyspark.sql.functions import *"
      ],
      "execution_count": 15,
      "outputs": []
    },
    {
      "cell_type": "code",
      "metadata": {
        "colab": {
          "base_uri": "https://localhost:8080/"
        },
        "id": "6dB-ixVqOGFS",
        "outputId": "51a10a8f-9b3e-4380-d704-5c5503c03e80"
      },
      "source": [
        "df3 = df2.withColumn(\"Review\", split(col(\"Review\"), \" \")).withColumn(\"id\", monotonically_increasing_id())\n",
        "df3.show(10)"
      ],
      "execution_count": 16,
      "outputs": [
        {
          "output_type": "stream",
          "name": "stdout",
          "text": [
            "+--------------------+------+---+\n",
            "|              Review|Rating| id|\n",
            "+--------------------+------+---+\n",
            "|[nice, hotel, exp...|     4|  0|\n",
            "|[ok, nothing, spe...|     2|  1|\n",
            "|[nice, rooms, not...|     3|  2|\n",
            "|[unique, great, s...|     5|  3|\n",
            "|[great, stay, gre...|     5|  4|\n",
            "|[love, monaco, st...|     5|  5|\n",
            "|[cozy, stay, rain...|     5|  6|\n",
            "|[excellent, staff...|     4|  7|\n",
            "|[hotel, stayed, h...|     5|  8|\n",
            "|[excellent, staye...|     5|  9|\n",
            "+--------------------+------+---+\n",
            "only showing top 10 rows\n",
            "\n"
          ]
        }
      ]
    },
    {
      "cell_type": "code",
      "metadata": {
        "id": "NeHonRFmTSb7"
      },
      "source": [
        "df4=df3.select(\"id\", explode(col(\"Review\")))\n",
        "df4 = df4.withColumnRenamed(\"col\", \"word\")"
      ],
      "execution_count": 17,
      "outputs": []
    },
    {
      "cell_type": "code",
      "metadata": {
        "colab": {
          "base_uri": "https://localhost:8080/"
        },
        "id": "K8fdN58KXggX",
        "outputId": "c1d94fe6-55ed-4b40-dcaf-baa485cb6fd4"
      },
      "source": [
        "df4.show(10)"
      ],
      "execution_count": 18,
      "outputs": [
        {
          "output_type": "stream",
          "name": "stdout",
          "text": [
            "+---+-----------+\n",
            "| id|       word|\n",
            "+---+-----------+\n",
            "|  0|       nice|\n",
            "|  0|      hotel|\n",
            "|  0|  expensive|\n",
            "|  0|    parking|\n",
            "|  0|        got|\n",
            "|  0|       good|\n",
            "|  0|       deal|\n",
            "|  0|       stay|\n",
            "|  0|      hotel|\n",
            "|  0|anniversary|\n",
            "+---+-----------+\n",
            "only showing top 10 rows\n",
            "\n"
          ]
        }
      ]
    },
    {
      "cell_type": "code",
      "metadata": {
        "id": "9KNvmTAmX0gt"
      },
      "source": [
        "word_freq = df4.groupBy(\"id\",\"word\").agg(count(\"word\"))"
      ],
      "execution_count": 19,
      "outputs": []
    },
    {
      "cell_type": "code",
      "metadata": {
        "colab": {
          "base_uri": "https://localhost:8080/"
        },
        "id": "x9RRl7RbYHcD",
        "outputId": "e1fe7139-1e53-4509-cdcb-df1a91737ecb"
      },
      "source": [
        "word_freq.show(10)"
      ],
      "execution_count": 20,
      "outputs": [
        {
          "output_type": "stream",
          "name": "stdout",
          "text": [
            "+---+----------+-----------+\n",
            "| id|      word|count(word)|\n",
            "+---+----------+-----------+\n",
            "|  0|      room|          3|\n",
            "|  1|    better|          2|\n",
            "|  6|attractive|          1|\n",
            "|  6|  positive|          1|\n",
            "|  7| concierge|          2|\n",
            "| 10|        nt|          2|\n",
            "| 12|     clean|          1|\n",
            "| 12|   concert|          1|\n",
            "| 15|      stay|          2|\n",
            "| 16|      desk|          6|\n",
            "+---+----------+-----------+\n",
            "only showing top 10 rows\n",
            "\n"
          ]
        }
      ]
    },
    {
      "cell_type": "markdown",
      "metadata": {
        "id": "pppb9rd9cakU"
      },
      "source": [
        "One review example"
      ]
    },
    {
      "cell_type": "code",
      "metadata": {
        "colab": {
          "base_uri": "https://localhost:8080/"
        },
        "id": "WhafYyJAb_iA",
        "outputId": "e68b139a-76e9-44aa-c0eb-cc5cb13cb70d"
      },
      "source": [
        "word_freq.filter(word_freq.id.isin(0)).show()"
      ],
      "execution_count": 21,
      "outputs": [
        {
          "output_type": "stream",
          "name": "stdout",
          "text": [
            "+---+-----------+-----------+\n",
            "| id|       word|count(word)|\n",
            "+---+-----------+-----------+\n",
            "|  0|       room|          3|\n",
            "|  0|      night|          2|\n",
            "|  0|       took|          1|\n",
            "|  0|        bed|          1|\n",
            "|  0|      taken|          1|\n",
            "|  0|     people|          1|\n",
            "|  0|    staying|          1|\n",
            "|  0|      music|          1|\n",
            "|  0|       high|          1|\n",
            "|  0|        got|          1|\n",
            "|  0|      doors|          1|\n",
            "|  0|   products|          1|\n",
            "|  0|       woke|          1|\n",
            "|  0|   location|          1|\n",
            "|  0|        not|          2|\n",
            "|  0|   previous|          1|\n",
            "|  0|    pillows|          1|\n",
            "|  0|        did|          2|\n",
            "|  0|       deal|          1|\n",
            "|  0|anniversary|          1|\n",
            "+---+-----------+-----------+\n",
            "only showing top 20 rows\n",
            "\n"
          ]
        }
      ]
    },
    {
      "cell_type": "code",
      "metadata": {
        "id": "5Oxdz7d6koGL"
      },
      "source": [
        "num_words = word_freq.groupBy(\"id\").agg(count(col(\"word\")))\n",
        "num_words = num_words.withColumnRenamed(\"count(word)\", \"words\")"
      ],
      "execution_count": 22,
      "outputs": []
    },
    {
      "cell_type": "code",
      "metadata": {
        "colab": {
          "base_uri": "https://localhost:8080/"
        },
        "id": "KbVEU-kfl7dv",
        "outputId": "50ebaa90-bc42-4a86-afe5-56d4e165f199"
      },
      "source": [
        "num_words.show(10)"
      ],
      "execution_count": 23,
      "outputs": [
        {
          "output_type": "stream",
          "name": "stdout",
          "text": [
            "+----+-----+\n",
            "|  id|words|\n",
            "+----+-----+\n",
            "| 474|   98|\n",
            "|1677|  100|\n",
            "|2214|  101|\n",
            "|2250|  128|\n",
            "|2453|   94|\n",
            "|2927|  477|\n",
            "|3091|  373|\n",
            "|3506|   29|\n",
            "|4590|   98|\n",
            "|5409|   52|\n",
            "+----+-----+\n",
            "only showing top 10 rows\n",
            "\n"
          ]
        }
      ]
    },
    {
      "cell_type": "code",
      "metadata": {
        "colab": {
          "base_uri": "https://localhost:8080/"
        },
        "id": "W2NA2NE8kHPx",
        "outputId": "9c6d5ef2-2ec5-4a2a-b21c-16c6ec1ab6bf"
      },
      "source": [
        "word_freq = word_freq.join(num_words, \"id\")\n",
        "word_freq.show(10)"
      ],
      "execution_count": 24,
      "outputs": [
        {
          "output_type": "stream",
          "name": "stdout",
          "text": [
            "+----+------------+-----------+-----+\n",
            "|  id|        word|count(word)|words|\n",
            "+----+------------+-----------+-----+\n",
            "| 474|       great|          3|   98|\n",
            "| 474|        rate|          2|   98|\n",
            "| 474|        look|          1|   98|\n",
            "|1677|        walk|          2|  100|\n",
            "|1677|destinations|          1|  100|\n",
            "|2214|       staff|          2|  101|\n",
            "|2250|       miami|          1|  128|\n",
            "|2453|   incapable|          1|   94|\n",
            "|2927|    trolleys|          1|  477|\n",
            "|2927|       makes|          1|  477|\n",
            "+----+------------+-----------+-----+\n",
            "only showing top 10 rows\n",
            "\n"
          ]
        }
      ]
    },
    {
      "cell_type": "code",
      "metadata": {
        "colab": {
          "base_uri": "https://localhost:8080/"
        },
        "id": "7g4oTYM6sqC3",
        "outputId": "8166c30c-b433-4c23-e826-dd4346ad02dd"
      },
      "source": [
        "word_freq = word_freq.select(col(\"id\"), col(\"word\"), (col(\"count(word)\") / col(\"words\")))\n",
        "word_freq.show(10)"
      ],
      "execution_count": 25,
      "outputs": [
        {
          "output_type": "stream",
          "name": "stdout",
          "text": [
            "+----+------------+---------------------+\n",
            "|  id|        word|(count(word) / words)|\n",
            "+----+------------+---------------------+\n",
            "| 474|       great| 0.030612244897959183|\n",
            "| 474|        rate|  0.02040816326530612|\n",
            "| 474|        look|  0.01020408163265306|\n",
            "|1677|        walk|                 0.02|\n",
            "|1677|destinations|                 0.01|\n",
            "|2214|       staff| 0.019801980198019802|\n",
            "|2250|       miami|            0.0078125|\n",
            "|2453|   incapable| 0.010638297872340425|\n",
            "|2927|    trolleys| 0.002096436058700...|\n",
            "|2927|       makes| 0.002096436058700...|\n",
            "+----+------------+---------------------+\n",
            "only showing top 10 rows\n",
            "\n"
          ]
        }
      ]
    },
    {
      "cell_type": "code",
      "metadata": {
        "id": "seXG2Zess6F5"
      },
      "source": [
        "word_freq = word_freq.withColumnRenamed(\"(count(word) / words)\", \"word_freq\")"
      ],
      "execution_count": 26,
      "outputs": []
    },
    {
      "cell_type": "markdown",
      "metadata": {
        "id": "yVTqHQoEb3kF"
      },
      "source": [
        "#### 4. Count number of documents with word"
      ]
    },
    {
      "cell_type": "code",
      "metadata": {
        "id": "sWVB-uNwcnO1"
      },
      "source": [
        "doc_freq = word_freq.groupBy(\"word\").agg(countDistinct(\"id\"))"
      ],
      "execution_count": 27,
      "outputs": []
    },
    {
      "cell_type": "code",
      "metadata": {
        "colab": {
          "base_uri": "https://localhost:8080/"
        },
        "id": "L30OrOa4dUqA",
        "outputId": "4150b984-37a2-4b0b-869d-8c71744d7520"
      },
      "source": [
        "doc_freq.show(10)"
      ],
      "execution_count": 28,
      "outputs": [
        {
          "output_type": "stream",
          "name": "stdout",
          "text": [
            "+---------+---------+\n",
            "|     word|count(id)|\n",
            "+---------+---------+\n",
            "|   travel|     1330|\n",
            "|   online|      360|\n",
            "|    pools|      819|\n",
            "|traveling|      436|\n",
            "|  jewelry|       56|\n",
            "|    spoil|       59|\n",
            "|  barrier|      163|\n",
            "|standards|      577|\n",
            "|     jamb|        2|\n",
            "|     hope|      540|\n",
            "+---------+---------+\n",
            "only showing top 10 rows\n",
            "\n"
          ]
        }
      ]
    },
    {
      "cell_type": "code",
      "metadata": {
        "id": "OU3w6l4RtRc7"
      },
      "source": [
        "doc_freq = doc_freq.withColumnRenamed(\"count(id)\", \"num_docs\")"
      ],
      "execution_count": 29,
      "outputs": []
    },
    {
      "cell_type": "markdown",
      "metadata": {
        "id": "-XCPAwElfL6h"
      },
      "source": [
        "#### 5. Top100 most frequent"
      ]
    },
    {
      "cell_type": "code",
      "metadata": {
        "id": "erRdD3n6eRHU"
      },
      "source": [
        "doc_freq100 = doc_freq.orderBy(desc(\"num_docs\")).limit(100)"
      ],
      "execution_count": 29,
      "outputs": []
    },
    {
      "cell_type": "code",
      "metadata": {
        "colab": {
          "base_uri": "https://localhost:8080/"
        },
        "id": "esxDs9kOeRLL",
        "outputId": "9ef70192-fe1d-47da-eae6-0cc680857bb1"
      },
      "source": [
        "doc_freq100.show(10)"
      ],
      "execution_count": 30,
      "outputs": [
        {
          "output_type": "stream",
          "name": "stdout",
          "text": [
            "+------+--------+\n",
            "|  word|num_docs|\n",
            "+------+--------+\n",
            "|      |   20491|\n",
            "| hotel|   16321|\n",
            "|  room|   14053|\n",
            "|   not|   12123|\n",
            "| staff|   11522|\n",
            "| great|   11020|\n",
            "|  stay|   10095|\n",
            "|  good|    9277|\n",
            "|stayed|    8549|\n",
            "|    nt|    8379|\n",
            "+------+--------+\n",
            "only showing top 10 rows\n",
            "\n"
          ]
        }
      ]
    },
    {
      "cell_type": "markdown",
      "metadata": {
        "id": "W2_K4JhQjNgs"
      },
      "source": [
        "#### 6. Join and TD-IDF calc"
      ]
    },
    {
      "cell_type": "code",
      "metadata": {
        "id": "Mbb_yyp7jX7O"
      },
      "source": [
        "tf_table = word_freq.join(doc_freq, \"word\")"
      ],
      "execution_count": 30,
      "outputs": []
    },
    {
      "cell_type": "code",
      "metadata": {
        "colab": {
          "base_uri": "https://localhost:8080/"
        },
        "id": "f6shbCQtxtWd",
        "outputId": "b1335099-af5a-454f-d828-b781e947eda6"
      },
      "source": [
        "tf_table.show(10)"
      ],
      "execution_count": 31,
      "outputs": [
        {
          "output_type": "stream",
          "name": "stdout",
          "text": [
            "+---------+-----+--------------------+--------+\n",
            "|     word|   id|           word_freq|num_docs|\n",
            "+---------+-----+--------------------+--------+\n",
            "|   travel|11190|0.006944444444444444|    1330|\n",
            "|    pools|11190|0.006944444444444444|     819|\n",
            "| lacrosse|  474| 0.02040816326530612|       1|\n",
            "|traveling| 2040|0.011363636363636364|     436|\n",
            "| everyday| 7225|               0.008|     514|\n",
            "| medasian|13401|0.005714285714285714|       1|\n",
            "|     hope| 2927|0.002096436058700...|     540|\n",
            "|    pools| 1697| 0.00510204081632653|     819|\n",
            "|   travel| 9945|              0.0125|    1330|\n",
            "|   travel| 8484|0.010752688172043012|    1330|\n",
            "+---------+-----+--------------------+--------+\n",
            "only showing top 10 rows\n",
            "\n"
          ]
        }
      ]
    },
    {
      "cell_type": "code",
      "metadata": {
        "colab": {
          "base_uri": "https://localhost:8080/"
        },
        "id": "0aMZyYtAynic",
        "outputId": "d3855465-cdec-4a5f-fdca-03746bd427cb"
      },
      "source": [
        "df1.count()"
      ],
      "execution_count": 34,
      "outputs": [
        {
          "output_type": "execute_result",
          "data": {
            "text/plain": [
              "20491"
            ]
          },
          "metadata": {},
          "execution_count": 34
        }
      ]
    },
    {
      "cell_type": "code",
      "metadata": {
        "id": "2VMTIQSrxx0v"
      },
      "source": [
        "tf_table2 = tf_table.select(col(\"id\"), col(\"word\"), (col(\"word_freq\") * log(20491 / col(\"num_docs\"))))\n",
        "tf_table2=tf_table2.withColumnRenamed(\"(word_freq * ln((20491 / num_docs)))\", \"tf_idf\")"
      ],
      "execution_count": 36,
      "outputs": []
    },
    {
      "cell_type": "code",
      "metadata": {
        "colab": {
          "base_uri": "https://localhost:8080/"
        },
        "id": "TbADY2Oa0AO9",
        "outputId": "8d6e3708-607b-47dc-babf-760d9d8fa37d"
      },
      "source": [
        "tf_table2.show(10)"
      ],
      "execution_count": 40,
      "outputs": [
        {
          "output_type": "stream",
          "name": "stdout",
          "text": [
            "+-----+---------+--------------------+\n",
            "|   id|     word|              tf_idf|\n",
            "+-----+---------+--------------------+\n",
            "|11190|   travel|0.018991714049451616|\n",
            "|11190|    pools|0.022358728892248356|\n",
            "|  474| lacrosse| 0.20260696008850676|\n",
            "| 2040|traveling| 0.04375112273849771|\n",
            "| 7225| everyday| 0.02948414223105334|\n",
            "|13401| medasian|  0.0567299488247819|\n",
            "| 2927|     hope|0.007623001896810...|\n",
            "| 1697|    pools|0.016426821226957974|\n",
            "| 9945|   travel|0.034185085289012915|\n",
            "| 8484|   travel|0.029406524979796057|\n",
            "+-----+---------+--------------------+\n",
            "only showing top 10 rows\n",
            "\n"
          ]
        }
      ]
    },
    {
      "cell_type": "markdown",
      "metadata": {
        "id": "rWTkqEG712d5"
      },
      "source": [
        "#### 7. Pivot table"
      ]
    },
    {
      "cell_type": "code",
      "metadata": {
        "id": "uZiCvS-J1jWh"
      },
      "source": [
        "spark.conf.set(\"spark.sql.pivotMaxValues\", 100000)"
      ],
      "execution_count": 44,
      "outputs": []
    },
    {
      "cell_type": "code",
      "metadata": {
        "id": "8ynD7JWk3-uP"
      },
      "source": [
        "tf_table_small = tf_table2.limit(100) ##Colab out of memory with full table"
      ],
      "execution_count": 49,
      "outputs": []
    },
    {
      "cell_type": "code",
      "metadata": {
        "id": "O-4g6MBo0OJy"
      },
      "source": [
        "pivot_result = tf_table_small.groupBy(\"id\")\n",
        "pivot_result = pivot_result.pivot(\"word\").max(\"tf_idf\").na.fill(0.0)"
      ],
      "execution_count": 53,
      "outputs": []
    },
    {
      "cell_type": "code",
      "metadata": {
        "colab": {
          "base_uri": "https://localhost:8080/"
        },
        "id": "GIO4SCOrjX-k",
        "outputId": "65684713-72c3-4687-dc63-1d09d86a3034"
      },
      "source": [
        "pivot_result.show(10)"
      ],
      "execution_count": 54,
      "outputs": [
        {
          "output_type": "stream",
          "name": "stdout",
          "text": [
            "+----------+---+--------+-------+------+------+---------------+-------+--------+---------+-------------------+-----+-----------+------+-----------+--------------------+---------+-----+-----+----+-------+----------+-----+----------+------+------+--------------------+---------+---------------+-----+---------+----------+------+-----+--------------------+-------------------+------+------+\n",
            "|        id|675|barbizon|barrier|biting|brands|breakfastdinner|bricked|cautious|connected|           everyday|exept|formalities|gloria|handicapped|                hope|indicator|inner|input|jamb|jewelry|lifeguards|monte|occidental|online|peolpe|               pools|recognize|reconditionning|spoil|standards|strawberry|tothis|trail|              travel|          traveling|voyage|waters|\n",
            "+----------+---+--------+-------+------+------+---------------+-------+--------+---------+-------------------+-----+-----------+------+-----------+--------------------+---------+-----+-----+----+-------+----------+-----+----------+------+------+--------------------+---------+---------------+-----+---------+----------+------+-----+--------------------+-------------------+------+------+\n",
            "|     11190|0.0|     0.0|    0.0|   0.0|   0.0|            0.0|    0.0|     0.0|      0.0|                0.0|  0.0|        0.0|   0.0|        0.0|                 0.0|      0.0|  0.0|  0.0| 0.0|    0.0|       0.0|  0.0|       0.0|   0.0|   0.0|0.022358728892248356|      0.0|            0.0|  0.0|      0.0|       0.0|   0.0|  0.0|0.018991714049451616|                0.0|   0.0|   0.0|\n",
            "|       474|0.0|     0.0|    0.0|   0.0|   0.0|            0.0|    0.0|     0.0|      0.0|                0.0|  0.0|        0.0|   0.0|        0.0|                 0.0|      0.0|  0.0|  0.0| 0.0|    0.0|       0.0|  0.0|       0.0|   0.0|   0.0|                 0.0|      0.0|            0.0|  0.0|      0.0|       0.0|   0.0|  0.0|                 0.0|                0.0|   0.0|   0.0|\n",
            "|      2040|0.0|     0.0|    0.0|   0.0|   0.0|            0.0|    0.0|     0.0|      0.0|                0.0|  0.0|        0.0|   0.0|        0.0|                 0.0|      0.0|  0.0|  0.0| 0.0|    0.0|       0.0|  0.0|       0.0|   0.0|   0.0|                 0.0|      0.0|            0.0|  0.0|      0.0|       0.0|   0.0|  0.0|                 0.0|0.04375112273849771|   0.0|   0.0|\n",
            "|      7225|0.0|     0.0|    0.0|   0.0|   0.0|            0.0|    0.0|     0.0|      0.0|0.02948414223105334|  0.0|        0.0|   0.0|        0.0|                 0.0|      0.0|  0.0|  0.0| 0.0|    0.0|       0.0|  0.0|       0.0|   0.0|   0.0|                 0.0|      0.0|            0.0|  0.0|      0.0|       0.0|   0.0|  0.0|                 0.0|                0.0|   0.0|   0.0|\n",
            "|     13401|0.0|     0.0|    0.0|   0.0|   0.0|            0.0|    0.0|     0.0|      0.0|                0.0|  0.0|        0.0|   0.0|        0.0|                 0.0|      0.0|  0.0|  0.0| 0.0|    0.0|       0.0|  0.0|       0.0|   0.0|   0.0|                 0.0|      0.0|            0.0|  0.0|      0.0|       0.0|   0.0|  0.0|                 0.0|                0.0|   0.0|   0.0|\n",
            "|      2927|0.0|     0.0|    0.0|   0.0|   0.0|            0.0|    0.0|     0.0|      0.0|                0.0|  0.0|        0.0|   0.0|        0.0|0.007623001896810...|      0.0|  0.0|  0.0| 0.0|    0.0|       0.0|  0.0|       0.0|   0.0|   0.0|                 0.0|      0.0|            0.0|  0.0|      0.0|       0.0|   0.0|  0.0|                 0.0|                0.0|   0.0|   0.0|\n",
            "|      1697|0.0|     0.0|    0.0|   0.0|   0.0|            0.0|    0.0|     0.0|      0.0|                0.0|  0.0|        0.0|   0.0|        0.0|                 0.0|      0.0|  0.0|  0.0| 0.0|    0.0|       0.0|  0.0|       0.0|   0.0|   0.0|0.016426821226957974|      0.0|            0.0|  0.0|      0.0|       0.0|   0.0|  0.0|                 0.0|                0.0|   0.0|   0.0|\n",
            "|      9945|0.0|     0.0|    0.0|   0.0|   0.0|            0.0|    0.0|     0.0|      0.0|                0.0|  0.0|        0.0|   0.0|        0.0|                 0.0|      0.0|  0.0|  0.0| 0.0|    0.0|       0.0|  0.0|       0.0|   0.0|   0.0|                 0.0|      0.0|            0.0|  0.0|      0.0|       0.0|   0.0|  0.0|0.034185085289012915|                0.0|   0.0|   0.0|\n",
            "|      8484|0.0|     0.0|    0.0|   0.0|   0.0|            0.0|    0.0|     0.0|      0.0|                0.0|  0.0|        0.0|   0.0|        0.0|                 0.0|      0.0|  0.0|  0.0| 0.0|    0.0|       0.0|  0.0|       0.0|   0.0|   0.0|                 0.0|      0.0|            0.0|  0.0|      0.0|       0.0|   0.0|  0.0|0.029406524979796057|                0.0|   0.0|   0.0|\n",
            "|8589938845|0.0|     0.0|    0.0|   0.0|   0.0|            0.0|    0.0|     0.0|      0.0|                0.0|  0.0|        0.0|   0.0|        0.0|                 0.0|      0.0|  0.0|  0.0| 0.0|    0.0|       0.0|  0.0|       0.0|   0.0|   0.0|                 0.0|      0.0|            0.0|  0.0|      0.0|       0.0|   0.0|  0.0|                 0.0|                0.0|   0.0|   0.0|\n",
            "+----------+---+--------+-------+------+------+---------------+-------+--------+---------+-------------------+-----+-----------+------+-----------+--------------------+---------+-----+-----+----+-------+----------+-----+----------+------+------+--------------------+---------+---------------+-----+---------+----------+------+-----+--------------------+-------------------+------+------+\n",
            "only showing top 10 rows\n",
            "\n"
          ]
        }
      ]
    },
    {
      "cell_type": "code",
      "metadata": {
        "id": "RawzrZW71wAw"
      },
      "source": [
        ""
      ],
      "execution_count": null,
      "outputs": []
    },
    {
      "cell_type": "code",
      "metadata": {
        "id": "LqQK9vQ71waz"
      },
      "source": [
        ""
      ],
      "execution_count": null,
      "outputs": []
    }
  ]
}